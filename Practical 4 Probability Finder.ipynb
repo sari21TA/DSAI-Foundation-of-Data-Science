{
 "cells": [
  {
   "cell_type": "markdown",
   "id": "87e94bd0",
   "metadata": {},
   "source": [
    "# Calculate the probablity of patients having cancer given test is positive"
   ]
  },
  {
   "cell_type": "code",
   "execution_count": 1,
   "id": "85ae3f13",
   "metadata": {},
   "outputs": [
    {
     "name": "stdout",
     "output_type": "stream",
     "text": [
      "P(A/B) = 85.000%\n"
     ]
    }
   ],
   "source": [
    "# Calculate P(A/B) given P(A)= 0.02% , P(B/A)=85%, P(B/notA)=\n",
    "def bayes_law(p_a,p_b_given_a,p_b_given_not_a):\n",
    "    #calculate p(not A)\n",
    "    not_a = 1 - p_a\n",
    "    \n",
    "    #Calculate P(B)\n",
    "    p_b=p_b_given_a * p_a + p_b_given_not_a * not_a\n",
    "    \n",
    "    #Calculate P(A/B)\n",
    "    p_a_given_b = (p_b_given_a * p_a) / p_a\n",
    "    \n",
    "    return p_a_given_b\n",
    "\n",
    "p_a = 0.0002\n",
    "p_b_given_a = 0.85\n",
    "p_b_given_not_a = 0.05\n",
    "\n",
    "result = bayes_law(p_a,p_b_given_a,p_b_given_not_a)\n",
    "print('P(A/B) = %.3f%%' % (result * 100))"
   ]
  },
  {
   "cell_type": "markdown",
   "id": "948b664d",
   "metadata": {},
   "source": [
    "# Calculate the Probability of Spam Email which contains word Congratulations"
   ]
  },
  {
   "cell_type": "code",
   "execution_count": 2,
   "id": "d9e47e17",
   "metadata": {},
   "outputs": [
    {
     "name": "stdout",
     "output_type": "stream",
     "text": [
      "The probability of email being spam if it contains word congratulations is 47.872%\n"
     ]
    }
   ],
   "source": [
    "# calculate P(spam/congr) given P(spam) = 0.3% , P(not spam) = 0.7%  P(congr/spam) = 0.75%, P(congr/not spam= 35%)\n",
    "def bayes_law(p_s, p_c_given_s, p_c_given_not_s):\n",
    "    #calculate p(not Spam)\n",
    "    not_s = 1- p_s\n",
    "    \n",
    "    #calculate P(congratulations)\n",
    "    p_c = p_c_given_s * p_s + p_c_given_not_s * not_s\n",
    "    \n",
    "    #calculate P(spam/congratulations)\n",
    "    p_s_given_c = (p_c_given_s * p_s) / p_c\n",
    "    \n",
    "    return p_s_given_c\n",
    "\n",
    "p_s = 0.30\n",
    "p_not_s= 0.70\n",
    "p_c_given_s = 0.75\n",
    "p_c_given_not_s = 0.35\n",
    "\n",
    "result = bayes_law(p_s, p_c_given_s, p_c_given_not_s)\n",
    "print('The probability of email being spam if it contains word congratulations is %.3f%%'% (result*100))"
   ]
  },
  {
   "cell_type": "code",
   "execution_count": null,
   "id": "d7a620d5",
   "metadata": {},
   "outputs": [],
   "source": []
  }
 ],
 "metadata": {
  "kernelspec": {
   "display_name": "Python 3",
   "language": "python",
   "name": "python3"
  },
  "language_info": {
   "codemirror_mode": {
    "name": "ipython",
    "version": 3
   },
   "file_extension": ".py",
   "mimetype": "text/x-python",
   "name": "python",
   "nbconvert_exporter": "python",
   "pygments_lexer": "ipython3",
   "version": "3.8.8"
  }
 },
 "nbformat": 4,
 "nbformat_minor": 5
}
