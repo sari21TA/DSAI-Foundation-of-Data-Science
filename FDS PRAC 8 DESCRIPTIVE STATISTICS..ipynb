{
 "cells": [
  {
   "cell_type": "code",
   "execution_count": 1,
   "id": "eaeba4f0",
   "metadata": {},
   "outputs": [],
   "source": [
    "import pandas as pd"
   ]
  },
  {
   "cell_type": "code",
   "execution_count": 2,
   "id": "74d19ff2",
   "metadata": {},
   "outputs": [
    {
     "data": {
      "text/html": [
       "<div>\n",
       "<style scoped>\n",
       "    .dataframe tbody tr th:only-of-type {\n",
       "        vertical-align: middle;\n",
       "    }\n",
       "\n",
       "    .dataframe tbody tr th {\n",
       "        vertical-align: top;\n",
       "    }\n",
       "\n",
       "    .dataframe thead th {\n",
       "        text-align: right;\n",
       "    }\n",
       "</style>\n",
       "<table border=\"1\" class=\"dataframe\">\n",
       "  <thead>\n",
       "    <tr style=\"text-align: right;\">\n",
       "      <th></th>\n",
       "      <th>Name</th>\n",
       "      <th>Salary</th>\n",
       "      <th>Country</th>\n",
       "    </tr>\n",
       "  </thead>\n",
       "  <tbody>\n",
       "    <tr>\n",
       "      <th>0</th>\n",
       "      <td>Dan</td>\n",
       "      <td>40000</td>\n",
       "      <td>USA</td>\n",
       "    </tr>\n",
       "    <tr>\n",
       "      <th>1</th>\n",
       "      <td>Elizabeth</td>\n",
       "      <td>32000</td>\n",
       "      <td>Brazil</td>\n",
       "    </tr>\n",
       "    <tr>\n",
       "      <th>2</th>\n",
       "      <td>Jon</td>\n",
       "      <td>45000</td>\n",
       "      <td>Italy</td>\n",
       "    </tr>\n",
       "    <tr>\n",
       "      <th>3</th>\n",
       "      <td>Maria</td>\n",
       "      <td>54000</td>\n",
       "      <td>USA</td>\n",
       "    </tr>\n",
       "    <tr>\n",
       "      <th>4</th>\n",
       "      <td>Mark</td>\n",
       "      <td>72000</td>\n",
       "      <td>USA</td>\n",
       "    </tr>\n",
       "    <tr>\n",
       "      <th>5</th>\n",
       "      <td>Bill</td>\n",
       "      <td>62000</td>\n",
       "      <td>Brazil</td>\n",
       "    </tr>\n",
       "    <tr>\n",
       "      <th>6</th>\n",
       "      <td>Jess</td>\n",
       "      <td>92000</td>\n",
       "      <td>Italy</td>\n",
       "    </tr>\n",
       "    <tr>\n",
       "      <th>7</th>\n",
       "      <td>Julia</td>\n",
       "      <td>55000</td>\n",
       "      <td>USA</td>\n",
       "    </tr>\n",
       "    <tr>\n",
       "      <th>8</th>\n",
       "      <td>Jeff</td>\n",
       "      <td>35000</td>\n",
       "      <td>Italy</td>\n",
       "    </tr>\n",
       "    <tr>\n",
       "      <th>9</th>\n",
       "      <td>Ben</td>\n",
       "      <td>48000</td>\n",
       "      <td>Brazil</td>\n",
       "    </tr>\n",
       "  </tbody>\n",
       "</table>\n",
       "</div>"
      ],
      "text/plain": [
       "        Name  Salary Country\n",
       "0        Dan   40000     USA\n",
       "1  Elizabeth   32000  Brazil\n",
       "2        Jon   45000   Italy\n",
       "3      Maria   54000     USA\n",
       "4       Mark   72000     USA\n",
       "5       Bill   62000  Brazil\n",
       "6       Jess   92000   Italy\n",
       "7      Julia   55000     USA\n",
       "8       Jeff   35000   Italy\n",
       "9        Ben   48000  Brazil"
      ]
     },
     "execution_count": 2,
     "metadata": {},
     "output_type": "execute_result"
    }
   ],
   "source": [
    "df= pd.read_csv(\"C:/Users/Saroj/Downloads/stats.csv\")\n",
    "df"
   ]
  },
  {
   "cell_type": "code",
   "execution_count": 3,
   "id": "cd455804",
   "metadata": {},
   "outputs": [
    {
     "data": {
      "text/plain": [
       "53500.0"
      ]
     },
     "execution_count": 3,
     "metadata": {},
     "output_type": "execute_result"
    }
   ],
   "source": [
    "# Mean salary\n",
    "mean1= df['Salary'].mean()\n",
    "mean1"
   ]
  },
  {
   "cell_type": "code",
   "execution_count": 4,
   "id": "31dd5ebb",
   "metadata": {},
   "outputs": [
    {
     "data": {
      "text/plain": [
       "535000"
      ]
     },
     "execution_count": 4,
     "metadata": {},
     "output_type": "execute_result"
    }
   ],
   "source": [
    "# Sum of Salaries\n",
    "sum1 = df['Salary'].sum()\n",
    "sum1"
   ]
  },
  {
   "cell_type": "code",
   "execution_count": 5,
   "id": "e23cb249",
   "metadata": {},
   "outputs": [
    {
     "data": {
      "text/plain": [
       "92000"
      ]
     },
     "execution_count": 5,
     "metadata": {},
     "output_type": "execute_result"
    }
   ],
   "source": [
    "# Maximum Salary\n",
    "max1 = df['Salary'].max()\n",
    "max1"
   ]
  },
  {
   "cell_type": "code",
   "execution_count": 6,
   "id": "ec901279",
   "metadata": {},
   "outputs": [
    {
     "data": {
      "text/plain": [
       "32000"
      ]
     },
     "execution_count": 6,
     "metadata": {},
     "output_type": "execute_result"
    }
   ],
   "source": [
    "# Minimum Salary\n",
    "min1 = df['Salary'].min()\n",
    "min1"
   ]
  },
  {
   "cell_type": "code",
   "execution_count": 7,
   "id": "3d8be365",
   "metadata": {},
   "outputs": [
    {
     "data": {
      "text/plain": [
       "10"
      ]
     },
     "execution_count": 7,
     "metadata": {},
     "output_type": "execute_result"
    }
   ],
   "source": [
    "# Total Count\n",
    "count1 = df['Salary'].count()\n",
    "count1"
   ]
  },
  {
   "cell_type": "code",
   "execution_count": 8,
   "id": "b8cb68ce",
   "metadata": {},
   "outputs": [
    {
     "data": {
      "text/plain": [
       "51000.0"
      ]
     },
     "execution_count": 8,
     "metadata": {},
     "output_type": "execute_result"
    }
   ],
   "source": [
    "# Median\n",
    "median1 = df['Salary'].median()\n",
    "median1"
   ]
  },
  {
   "cell_type": "code",
   "execution_count": 9,
   "id": "ac7fb828",
   "metadata": {},
   "outputs": [
    {
     "data": {
      "text/plain": [
       "0    32000\n",
       "1    35000\n",
       "2    40000\n",
       "3    45000\n",
       "4    48000\n",
       "5    54000\n",
       "6    55000\n",
       "7    62000\n",
       "8    72000\n",
       "9    92000\n",
       "dtype: int64"
      ]
     },
     "execution_count": 9,
     "metadata": {},
     "output_type": "execute_result"
    }
   ],
   "source": [
    "# Mode\n",
    "mode1 = df['Salary'].mode()\n",
    "mode1"
   ]
  },
  {
   "cell_type": "code",
   "execution_count": 10,
   "id": "6071c617",
   "metadata": {},
   "outputs": [
    {
     "data": {
      "text/html": [
       "<div>\n",
       "<style scoped>\n",
       "    .dataframe tbody tr th:only-of-type {\n",
       "        vertical-align: middle;\n",
       "    }\n",
       "\n",
       "    .dataframe tbody tr th {\n",
       "        vertical-align: top;\n",
       "    }\n",
       "\n",
       "    .dataframe thead th {\n",
       "        text-align: right;\n",
       "    }\n",
       "</style>\n",
       "<table border=\"1\" class=\"dataframe\">\n",
       "  <thead>\n",
       "    <tr style=\"text-align: right;\">\n",
       "      <th></th>\n",
       "      <th>Salary</th>\n",
       "    </tr>\n",
       "    <tr>\n",
       "      <th>Country</th>\n",
       "      <th></th>\n",
       "    </tr>\n",
       "  </thead>\n",
       "  <tbody>\n",
       "    <tr>\n",
       "      <th>Brazil</th>\n",
       "      <td>142000</td>\n",
       "    </tr>\n",
       "    <tr>\n",
       "      <th>Italy</th>\n",
       "      <td>172000</td>\n",
       "    </tr>\n",
       "    <tr>\n",
       "      <th>USA</th>\n",
       "      <td>221000</td>\n",
       "    </tr>\n",
       "  </tbody>\n",
       "</table>\n",
       "</div>"
      ],
      "text/plain": [
       "         Salary\n",
       "Country        \n",
       "Brazil   142000\n",
       "Italy    172000\n",
       "USA      221000"
      ]
     },
     "execution_count": 10,
     "metadata": {},
     "output_type": "execute_result"
    }
   ],
   "source": [
    "countrywise_sum=df.groupby(['Country']).sum()\n",
    "countrywise_sum"
   ]
  },
  {
   "cell_type": "code",
   "execution_count": 11,
   "id": "454169a8",
   "metadata": {},
   "outputs": [
    {
     "data": {
      "text/html": [
       "<div>\n",
       "<style scoped>\n",
       "    .dataframe tbody tr th:only-of-type {\n",
       "        vertical-align: middle;\n",
       "    }\n",
       "\n",
       "    .dataframe tbody tr th {\n",
       "        vertical-align: top;\n",
       "    }\n",
       "\n",
       "    .dataframe thead th {\n",
       "        text-align: right;\n",
       "    }\n",
       "</style>\n",
       "<table border=\"1\" class=\"dataframe\">\n",
       "  <thead>\n",
       "    <tr style=\"text-align: right;\">\n",
       "      <th></th>\n",
       "      <th>Name</th>\n",
       "      <th>Salary</th>\n",
       "    </tr>\n",
       "    <tr>\n",
       "      <th>Country</th>\n",
       "      <th></th>\n",
       "      <th></th>\n",
       "    </tr>\n",
       "  </thead>\n",
       "  <tbody>\n",
       "    <tr>\n",
       "      <th>Brazil</th>\n",
       "      <td>3</td>\n",
       "      <td>3</td>\n",
       "    </tr>\n",
       "    <tr>\n",
       "      <th>Italy</th>\n",
       "      <td>3</td>\n",
       "      <td>3</td>\n",
       "    </tr>\n",
       "    <tr>\n",
       "      <th>USA</th>\n",
       "      <td>4</td>\n",
       "      <td>4</td>\n",
       "    </tr>\n",
       "  </tbody>\n",
       "</table>\n",
       "</div>"
      ],
      "text/plain": [
       "         Name  Salary\n",
       "Country              \n",
       "Brazil      3       3\n",
       "Italy       3       3\n",
       "USA         4       4"
      ]
     },
     "execution_count": 11,
     "metadata": {},
     "output_type": "execute_result"
    }
   ],
   "source": [
    "countrywise_count= df.groupby(['Country']).count()\n",
    "countrywise_count"
   ]
  },
  {
   "cell_type": "markdown",
   "id": "43b1ad1e",
   "metadata": {},
   "source": [
    "# Measure of Variabillity"
   ]
  },
  {
   "cell_type": "code",
   "execution_count": 12,
   "id": "76dcadeb",
   "metadata": {},
   "outputs": [
    {
     "data": {
      "text/plain": [
       "332055555.5555556"
      ]
     },
     "execution_count": 12,
     "metadata": {},
     "output_type": "execute_result"
    }
   ],
   "source": [
    "# Variance of Salaries\n",
    "var1 = df['Salary'].var()\n",
    "var1"
   ]
  },
  {
   "cell_type": "code",
   "execution_count": 13,
   "id": "45ab5274",
   "metadata": {},
   "outputs": [
    {
     "data": {
      "text/plain": [
       "18222.391598128816"
      ]
     },
     "execution_count": 13,
     "metadata": {},
     "output_type": "execute_result"
    }
   ],
   "source": [
    "# Standard Deviation\n",
    "std1 = df['Salary'].std()\n",
    "std1"
   ]
  },
  {
   "cell_type": "markdown",
   "id": "534cf589",
   "metadata": {},
   "source": [
    "# Measure of Symmetry"
   ]
  },
  {
   "cell_type": "code",
   "execution_count": 14,
   "id": "1c0b7e4b",
   "metadata": {},
   "outputs": [
    {
     "data": {
      "text/plain": [
       "Salary    1.021551\n",
       "dtype: float64"
      ]
     },
     "execution_count": 14,
     "metadata": {},
     "output_type": "execute_result"
    }
   ],
   "source": [
    "skew1 = df.skew(axis=0,skipna=True)\n",
    "skew1"
   ]
  },
  {
   "cell_type": "code",
   "execution_count": 15,
   "id": "2db36cc3",
   "metadata": {},
   "outputs": [],
   "source": [
    "# The skewness is positive so x will have right side tail."
   ]
  },
  {
   "cell_type": "markdown",
   "id": "790ee03b",
   "metadata": {},
   "source": [
    "# Covariance and Corelation"
   ]
  },
  {
   "cell_type": "code",
   "execution_count": 16,
   "id": "119d86ef",
   "metadata": {},
   "outputs": [
    {
     "data": {
      "text/html": [
       "<div>\n",
       "<style scoped>\n",
       "    .dataframe tbody tr th:only-of-type {\n",
       "        vertical-align: middle;\n",
       "    }\n",
       "\n",
       "    .dataframe tbody tr th {\n",
       "        vertical-align: top;\n",
       "    }\n",
       "\n",
       "    .dataframe thead th {\n",
       "        text-align: right;\n",
       "    }\n",
       "</style>\n",
       "<table border=\"1\" class=\"dataframe\">\n",
       "  <thead>\n",
       "    <tr style=\"text-align: right;\">\n",
       "      <th></th>\n",
       "      <th>Infant ID</th>\n",
       "      <th>Gestational Age (Weeks)</th>\n",
       "      <th>Birth Weight (Grams)</th>\n",
       "    </tr>\n",
       "  </thead>\n",
       "  <tbody>\n",
       "    <tr>\n",
       "      <th>0</th>\n",
       "      <td>1</td>\n",
       "      <td>34.7</td>\n",
       "      <td>1895</td>\n",
       "    </tr>\n",
       "    <tr>\n",
       "      <th>1</th>\n",
       "      <td>2</td>\n",
       "      <td>36.0</td>\n",
       "      <td>2030</td>\n",
       "    </tr>\n",
       "    <tr>\n",
       "      <th>2</th>\n",
       "      <td>3</td>\n",
       "      <td>29.3</td>\n",
       "      <td>1440</td>\n",
       "    </tr>\n",
       "    <tr>\n",
       "      <th>3</th>\n",
       "      <td>4</td>\n",
       "      <td>40.1</td>\n",
       "      <td>2835</td>\n",
       "    </tr>\n",
       "    <tr>\n",
       "      <th>4</th>\n",
       "      <td>5</td>\n",
       "      <td>35.7</td>\n",
       "      <td>3090</td>\n",
       "    </tr>\n",
       "  </tbody>\n",
       "</table>\n",
       "</div>"
      ],
      "text/plain": [
       "   Infant ID  Gestational Age (Weeks)  Birth Weight (Grams)\n",
       "0          1                     34.7                  1895\n",
       "1          2                     36.0                  2030\n",
       "2          3                     29.3                  1440\n",
       "3          4                     40.1                  2835\n",
       "4          5                     35.7                  3090"
      ]
     },
     "execution_count": 16,
     "metadata": {},
     "output_type": "execute_result"
    }
   ],
   "source": [
    "bw=pd.read_csv(\"C:/Users/Saroj/Downloads/BirthWeight.csv\")\n",
    "bw.head()"
   ]
  },
  {
   "cell_type": "code",
   "execution_count": 17,
   "id": "d13f0092",
   "metadata": {},
   "outputs": [
    {
     "data": {
      "text/html": [
       "<div>\n",
       "<style scoped>\n",
       "    .dataframe tbody tr th:only-of-type {\n",
       "        vertical-align: middle;\n",
       "    }\n",
       "\n",
       "    .dataframe tbody tr th {\n",
       "        vertical-align: top;\n",
       "    }\n",
       "\n",
       "    .dataframe thead th {\n",
       "        text-align: right;\n",
       "    }\n",
       "</style>\n",
       "<table border=\"1\" class=\"dataframe\">\n",
       "  <thead>\n",
       "    <tr style=\"text-align: right;\">\n",
       "      <th></th>\n",
       "      <th>Gestational Age (Weeks)</th>\n",
       "      <th>Birth Weight (Grams)</th>\n",
       "    </tr>\n",
       "    <tr>\n",
       "      <th>Infant ID</th>\n",
       "      <th></th>\n",
       "      <th></th>\n",
       "    </tr>\n",
       "  </thead>\n",
       "  <tbody>\n",
       "    <tr>\n",
       "      <th>1</th>\n",
       "      <td>34.7</td>\n",
       "      <td>1895</td>\n",
       "    </tr>\n",
       "    <tr>\n",
       "      <th>2</th>\n",
       "      <td>36.0</td>\n",
       "      <td>2030</td>\n",
       "    </tr>\n",
       "    <tr>\n",
       "      <th>3</th>\n",
       "      <td>29.3</td>\n",
       "      <td>1440</td>\n",
       "    </tr>\n",
       "    <tr>\n",
       "      <th>4</th>\n",
       "      <td>40.1</td>\n",
       "      <td>2835</td>\n",
       "    </tr>\n",
       "    <tr>\n",
       "      <th>5</th>\n",
       "      <td>35.7</td>\n",
       "      <td>3090</td>\n",
       "    </tr>\n",
       "  </tbody>\n",
       "</table>\n",
       "</div>"
      ],
      "text/plain": [
       "           Gestational Age (Weeks)  Birth Weight (Grams)\n",
       "Infant ID                                               \n",
       "1                             34.7                  1895\n",
       "2                             36.0                  2030\n",
       "3                             29.3                  1440\n",
       "4                             40.1                  2835\n",
       "5                             35.7                  3090"
      ]
     },
     "execution_count": 17,
     "metadata": {},
     "output_type": "execute_result"
    }
   ],
   "source": [
    "bw.set_index('Infant ID', inplace=True)\n",
    "bw.head()"
   ]
  },
  {
   "cell_type": "code",
   "execution_count": 18,
   "id": "c619e0b0",
   "metadata": {},
   "outputs": [
    {
     "data": {
      "text/html": [
       "<div>\n",
       "<style scoped>\n",
       "    .dataframe tbody tr th:only-of-type {\n",
       "        vertical-align: middle;\n",
       "    }\n",
       "\n",
       "    .dataframe tbody tr th {\n",
       "        vertical-align: top;\n",
       "    }\n",
       "\n",
       "    .dataframe thead th {\n",
       "        text-align: right;\n",
       "    }\n",
       "</style>\n",
       "<table border=\"1\" class=\"dataframe\">\n",
       "  <thead>\n",
       "    <tr style=\"text-align: right;\">\n",
       "      <th></th>\n",
       "      <th>Gestational Age (Weeks)</th>\n",
       "      <th>Birth Weight (Grams)</th>\n",
       "    </tr>\n",
       "  </thead>\n",
       "  <tbody>\n",
       "    <tr>\n",
       "      <th>Gestational Age (Weeks)</th>\n",
       "      <td>9.963824</td>\n",
       "      <td>1798.025</td>\n",
       "    </tr>\n",
       "    <tr>\n",
       "      <th>Birth Weight (Grams)</th>\n",
       "      <td>1798.025000</td>\n",
       "      <td>485478.750</td>\n",
       "    </tr>\n",
       "  </tbody>\n",
       "</table>\n",
       "</div>"
      ],
      "text/plain": [
       "                         Gestational Age (Weeks)  Birth Weight (Grams)\n",
       "Gestational Age (Weeks)                 9.963824              1798.025\n",
       "Birth Weight (Grams)                 1798.025000            485478.750"
      ]
     },
     "execution_count": 18,
     "metadata": {},
     "output_type": "execute_result"
    }
   ],
   "source": [
    "bw.cov()"
   ]
  },
  {
   "cell_type": "code",
   "execution_count": 20,
   "id": "2dccb1e2",
   "metadata": {},
   "outputs": [
    {
     "data": {
      "text/html": [
       "<div>\n",
       "<style scoped>\n",
       "    .dataframe tbody tr th:only-of-type {\n",
       "        vertical-align: middle;\n",
       "    }\n",
       "\n",
       "    .dataframe tbody tr th {\n",
       "        vertical-align: top;\n",
       "    }\n",
       "\n",
       "    .dataframe thead th {\n",
       "        text-align: right;\n",
       "    }\n",
       "</style>\n",
       "<table border=\"1\" class=\"dataframe\">\n",
       "  <thead>\n",
       "    <tr style=\"text-align: right;\">\n",
       "      <th></th>\n",
       "      <th>Gestational Age (Weeks)</th>\n",
       "      <th>Birth Weight (Grams)</th>\n",
       "    </tr>\n",
       "  </thead>\n",
       "  <tbody>\n",
       "    <tr>\n",
       "      <th>Gestational Age (Weeks)</th>\n",
       "      <td>1.000000</td>\n",
       "      <td>0.817519</td>\n",
       "    </tr>\n",
       "    <tr>\n",
       "      <th>Birth Weight (Grams)</th>\n",
       "      <td>0.817519</td>\n",
       "      <td>1.000000</td>\n",
       "    </tr>\n",
       "  </tbody>\n",
       "</table>\n",
       "</div>"
      ],
      "text/plain": [
       "                         Gestational Age (Weeks)  Birth Weight (Grams)\n",
       "Gestational Age (Weeks)                 1.000000              0.817519\n",
       "Birth Weight (Grams)                    0.817519              1.000000"
      ]
     },
     "execution_count": 20,
     "metadata": {},
     "output_type": "execute_result"
    }
   ],
   "source": [
    "bw.corr(method=\"pearson\")"
   ]
  },
  {
   "cell_type": "code",
   "execution_count": null,
   "id": "a6861bc6",
   "metadata": {},
   "outputs": [],
   "source": [
    "#covariance indicate that there is correlation exists between two\n",
    "#correlation coefficient of 0.818 indicate the relationship between two is positive and strong"
   ]
  },
  {
   "cell_type": "code",
   "execution_count": null,
   "id": "5aad5b8b",
   "metadata": {},
   "outputs": [],
   "source": []
  }
 ],
 "metadata": {
  "kernelspec": {
   "display_name": "Python 3",
   "language": "python",
   "name": "python3"
  },
  "language_info": {
   "codemirror_mode": {
    "name": "ipython",
    "version": 3
   },
   "file_extension": ".py",
   "mimetype": "text/x-python",
   "name": "python",
   "nbconvert_exporter": "python",
   "pygments_lexer": "ipython3",
   "version": "3.8.8"
  }
 },
 "nbformat": 4,
 "nbformat_minor": 5
}
